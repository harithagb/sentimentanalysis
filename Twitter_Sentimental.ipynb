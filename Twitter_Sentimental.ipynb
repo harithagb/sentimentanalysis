{
  "nbformat": 4,
  "nbformat_minor": 0,
  "metadata": {
    "colab": {
      "name": "Twitter Sentimental.ipynb",
      "version": "0.3.2",
      "provenance": []
    },
    "kernelspec": {
      "name": "python3",
      "display_name": "Python 3"
    },
    "accelerator": "GPU"
  },
  "cells": [
    {
      "cell_type": "markdown",
      "metadata": {
        "id": "HEdw8Lgku-3g",
        "colab_type": "text"
      },
      "source": [
        "# Twitter Sentimental Analysis"
      ]
    },
    {
      "cell_type": "code",
      "metadata": {
        "id": "vB7agLH2tWoY",
        "colab_type": "code",
        "colab": {
          "base_uri": "https://localhost:8080/",
          "height": 34
        },
        "outputId": "8e0e09f1-862b-435c-e299-1c29da97d449"
      },
      "source": [
        "import numpy as np\n",
        "import pandas as pd\n",
        "from google.colab import drive\n",
        "drive.mount('/content/drive')"
      ],
      "execution_count": 1,
      "outputs": [
        {
          "output_type": "stream",
          "text": [
            "Drive already mounted at /content/drive; to attempt to forcibly remount, call drive.mount(\"/content/drive\", force_remount=True).\n"
          ],
          "name": "stdout"
        }
      ]
    },
    {
      "cell_type": "code",
      "metadata": {
        "id": "0iEZigG9tbun",
        "colab_type": "code",
        "colab": {
          "base_uri": "https://localhost:8080/",
          "height": 434
        },
        "outputId": "b1794d27-45f0-4dbf-80a9-db7bf99d2f0d"
      },
      "source": [
        "df = pd.read_csv('drive/My Drive/Colab Notebooks/twitter sentiment/Tweets.csv')\n",
        "df.head()"
      ],
      "execution_count": 2,
      "outputs": [
        {
          "output_type": "execute_result",
          "data": {
            "text/html": [
              "<div>\n",
              "<style scoped>\n",
              "    .dataframe tbody tr th:only-of-type {\n",
              "        vertical-align: middle;\n",
              "    }\n",
              "\n",
              "    .dataframe tbody tr th {\n",
              "        vertical-align: top;\n",
              "    }\n",
              "\n",
              "    .dataframe thead th {\n",
              "        text-align: right;\n",
              "    }\n",
              "</style>\n",
              "<table border=\"1\" class=\"dataframe\">\n",
              "  <thead>\n",
              "    <tr style=\"text-align: right;\">\n",
              "      <th></th>\n",
              "      <th>tweet_id</th>\n",
              "      <th>airline_sentiment</th>\n",
              "      <th>airline_sentiment_confidence</th>\n",
              "      <th>negativereason</th>\n",
              "      <th>negativereason_confidence</th>\n",
              "      <th>airline</th>\n",
              "      <th>airline_sentiment_gold</th>\n",
              "      <th>name</th>\n",
              "      <th>negativereason_gold</th>\n",
              "      <th>retweet_count</th>\n",
              "      <th>text</th>\n",
              "      <th>tweet_coord</th>\n",
              "      <th>tweet_created</th>\n",
              "      <th>tweet_location</th>\n",
              "      <th>user_timezone</th>\n",
              "    </tr>\n",
              "  </thead>\n",
              "  <tbody>\n",
              "    <tr>\n",
              "      <th>0</th>\n",
              "      <td>570306133677760513</td>\n",
              "      <td>neutral</td>\n",
              "      <td>1.0000</td>\n",
              "      <td>NaN</td>\n",
              "      <td>NaN</td>\n",
              "      <td>Virgin America</td>\n",
              "      <td>NaN</td>\n",
              "      <td>cairdin</td>\n",
              "      <td>NaN</td>\n",
              "      <td>0</td>\n",
              "      <td>@VirginAmerica What @dhepburn said.</td>\n",
              "      <td>NaN</td>\n",
              "      <td>2015-02-24 11:35:52 -0800</td>\n",
              "      <td>NaN</td>\n",
              "      <td>Eastern Time (US &amp; Canada)</td>\n",
              "    </tr>\n",
              "    <tr>\n",
              "      <th>1</th>\n",
              "      <td>570301130888122368</td>\n",
              "      <td>positive</td>\n",
              "      <td>0.3486</td>\n",
              "      <td>NaN</td>\n",
              "      <td>0.0000</td>\n",
              "      <td>Virgin America</td>\n",
              "      <td>NaN</td>\n",
              "      <td>jnardino</td>\n",
              "      <td>NaN</td>\n",
              "      <td>0</td>\n",
              "      <td>@VirginAmerica plus you've added commercials t...</td>\n",
              "      <td>NaN</td>\n",
              "      <td>2015-02-24 11:15:59 -0800</td>\n",
              "      <td>NaN</td>\n",
              "      <td>Pacific Time (US &amp; Canada)</td>\n",
              "    </tr>\n",
              "    <tr>\n",
              "      <th>2</th>\n",
              "      <td>570301083672813571</td>\n",
              "      <td>neutral</td>\n",
              "      <td>0.6837</td>\n",
              "      <td>NaN</td>\n",
              "      <td>NaN</td>\n",
              "      <td>Virgin America</td>\n",
              "      <td>NaN</td>\n",
              "      <td>yvonnalynn</td>\n",
              "      <td>NaN</td>\n",
              "      <td>0</td>\n",
              "      <td>@VirginAmerica I didn't today... Must mean I n...</td>\n",
              "      <td>NaN</td>\n",
              "      <td>2015-02-24 11:15:48 -0800</td>\n",
              "      <td>Lets Play</td>\n",
              "      <td>Central Time (US &amp; Canada)</td>\n",
              "    </tr>\n",
              "    <tr>\n",
              "      <th>3</th>\n",
              "      <td>570301031407624196</td>\n",
              "      <td>negative</td>\n",
              "      <td>1.0000</td>\n",
              "      <td>Bad Flight</td>\n",
              "      <td>0.7033</td>\n",
              "      <td>Virgin America</td>\n",
              "      <td>NaN</td>\n",
              "      <td>jnardino</td>\n",
              "      <td>NaN</td>\n",
              "      <td>0</td>\n",
              "      <td>@VirginAmerica it's really aggressive to blast...</td>\n",
              "      <td>NaN</td>\n",
              "      <td>2015-02-24 11:15:36 -0800</td>\n",
              "      <td>NaN</td>\n",
              "      <td>Pacific Time (US &amp; Canada)</td>\n",
              "    </tr>\n",
              "    <tr>\n",
              "      <th>4</th>\n",
              "      <td>570300817074462722</td>\n",
              "      <td>negative</td>\n",
              "      <td>1.0000</td>\n",
              "      <td>Can't Tell</td>\n",
              "      <td>1.0000</td>\n",
              "      <td>Virgin America</td>\n",
              "      <td>NaN</td>\n",
              "      <td>jnardino</td>\n",
              "      <td>NaN</td>\n",
              "      <td>0</td>\n",
              "      <td>@VirginAmerica and it's a really big bad thing...</td>\n",
              "      <td>NaN</td>\n",
              "      <td>2015-02-24 11:14:45 -0800</td>\n",
              "      <td>NaN</td>\n",
              "      <td>Pacific Time (US &amp; Canada)</td>\n",
              "    </tr>\n",
              "  </tbody>\n",
              "</table>\n",
              "</div>"
            ],
            "text/plain": [
              "             tweet_id  ...               user_timezone\n",
              "0  570306133677760513  ...  Eastern Time (US & Canada)\n",
              "1  570301130888122368  ...  Pacific Time (US & Canada)\n",
              "2  570301083672813571  ...  Central Time (US & Canada)\n",
              "3  570301031407624196  ...  Pacific Time (US & Canada)\n",
              "4  570300817074462722  ...  Pacific Time (US & Canada)\n",
              "\n",
              "[5 rows x 15 columns]"
            ]
          },
          "metadata": {
            "tags": []
          },
          "execution_count": 2
        }
      ]
    },
    {
      "cell_type": "code",
      "metadata": {
        "id": "vJdlJXfH_zMC",
        "colab_type": "code",
        "colab": {
          "base_uri": "https://localhost:8080/",
          "height": 195
        },
        "outputId": "48728e1b-cd07-4a05-b285-f40d33d14dd1"
      },
      "source": [
        "# For sentimental analysis I just want the actual tweet and the label for it\n",
        "\n",
        "tweet = df[['airline_sentiment', 'text']].copy()\n",
        "tweet.head()"
      ],
      "execution_count": 3,
      "outputs": [
        {
          "output_type": "execute_result",
          "data": {
            "text/html": [
              "<div>\n",
              "<style scoped>\n",
              "    .dataframe tbody tr th:only-of-type {\n",
              "        vertical-align: middle;\n",
              "    }\n",
              "\n",
              "    .dataframe tbody tr th {\n",
              "        vertical-align: top;\n",
              "    }\n",
              "\n",
              "    .dataframe thead th {\n",
              "        text-align: right;\n",
              "    }\n",
              "</style>\n",
              "<table border=\"1\" class=\"dataframe\">\n",
              "  <thead>\n",
              "    <tr style=\"text-align: right;\">\n",
              "      <th></th>\n",
              "      <th>airline_sentiment</th>\n",
              "      <th>text</th>\n",
              "    </tr>\n",
              "  </thead>\n",
              "  <tbody>\n",
              "    <tr>\n",
              "      <th>0</th>\n",
              "      <td>neutral</td>\n",
              "      <td>@VirginAmerica What @dhepburn said.</td>\n",
              "    </tr>\n",
              "    <tr>\n",
              "      <th>1</th>\n",
              "      <td>positive</td>\n",
              "      <td>@VirginAmerica plus you've added commercials t...</td>\n",
              "    </tr>\n",
              "    <tr>\n",
              "      <th>2</th>\n",
              "      <td>neutral</td>\n",
              "      <td>@VirginAmerica I didn't today... Must mean I n...</td>\n",
              "    </tr>\n",
              "    <tr>\n",
              "      <th>3</th>\n",
              "      <td>negative</td>\n",
              "      <td>@VirginAmerica it's really aggressive to blast...</td>\n",
              "    </tr>\n",
              "    <tr>\n",
              "      <th>4</th>\n",
              "      <td>negative</td>\n",
              "      <td>@VirginAmerica and it's a really big bad thing...</td>\n",
              "    </tr>\n",
              "  </tbody>\n",
              "</table>\n",
              "</div>"
            ],
            "text/plain": [
              "  airline_sentiment                                               text\n",
              "0           neutral                @VirginAmerica What @dhepburn said.\n",
              "1          positive  @VirginAmerica plus you've added commercials t...\n",
              "2           neutral  @VirginAmerica I didn't today... Must mean I n...\n",
              "3          negative  @VirginAmerica it's really aggressive to blast...\n",
              "4          negative  @VirginAmerica and it's a really big bad thing..."
            ]
          },
          "metadata": {
            "tags": []
          },
          "execution_count": 3
        }
      ]
    },
    {
      "cell_type": "code",
      "metadata": {
        "id": "hb6sRKNbB68V",
        "colab_type": "code",
        "colab": {
          "base_uri": "https://localhost:8080/",
          "height": 70
        },
        "outputId": "6fefdccf-e5df-4d17-ba87-8c448d6cfc65"
      },
      "source": [
        "tweet.isnull().sum()"
      ],
      "execution_count": 4,
      "outputs": [
        {
          "output_type": "execute_result",
          "data": {
            "text/plain": [
              "airline_sentiment    0\n",
              "text                 0\n",
              "dtype: int64"
            ]
          },
          "metadata": {
            "tags": []
          },
          "execution_count": 4
        }
      ]
    },
    {
      "cell_type": "code",
      "metadata": {
        "id": "e3rz0M-PCCcu",
        "colab_type": "code",
        "colab": {
          "base_uri": "https://localhost:8080/",
          "height": 34
        },
        "outputId": "cf690e3e-23e2-430c-986f-412b44e9a0fc"
      },
      "source": [
        "blanks = []\n",
        "\n",
        "# (index,label, review text)\n",
        "for i,lb,rv in tweet.itertuples():\n",
        "  if rv.isspace():\n",
        "    blanks.append(i)\n",
        "\n",
        "blanks"
      ],
      "execution_count": 5,
      "outputs": [
        {
          "output_type": "execute_result",
          "data": {
            "text/plain": [
              "[]"
            ]
          },
          "metadata": {
            "tags": []
          },
          "execution_count": 5
        }
      ]
    },
    {
      "cell_type": "code",
      "metadata": {
        "id": "RCKAL49fCEtB",
        "colab_type": "code",
        "colab": {}
      },
      "source": [
        "# There are no missing values and there are no blanks within the text so we can proceed with the sentiment analysis"
      ],
      "execution_count": 0,
      "outputs": []
    },
    {
      "cell_type": "code",
      "metadata": {
        "id": "Yd6_kt7SCUA_",
        "colab_type": "code",
        "colab": {
          "base_uri": "https://localhost:8080/",
          "height": 90
        },
        "outputId": "f7b01c4e-595d-45d0-cd41-f04ad1ba43c5"
      },
      "source": [
        "import nltk\n",
        "nltk.download('vader_lexicon')\n",
        "from nltk.sentiment.vader import SentimentIntensityAnalyzer\n",
        "sid = SentimentIntensityAnalyzer()"
      ],
      "execution_count": 7,
      "outputs": [
        {
          "output_type": "stream",
          "text": [
            "[nltk_data] Downloading package vader_lexicon to /root/nltk_data...\n"
          ],
          "name": "stdout"
        },
        {
          "output_type": "stream",
          "text": [
            "/usr/local/lib/python3.6/dist-packages/nltk/twitter/__init__.py:20: UserWarning: The twython library has not been installed. Some functionality from the twitter package will not be available.\n",
            "  warnings.warn(\"The twython library has not been installed. \"\n"
          ],
          "name": "stderr"
        }
      ]
    },
    {
      "cell_type": "code",
      "metadata": {
        "id": "CS7BC62uCX6H",
        "colab_type": "code",
        "colab": {}
      },
      "source": [
        "tweet['score'] = tweet['text'].apply(lambda review:sid.polarity_scores(review))\n",
        "tweet['compound'] = tweet['score'].apply(lambda d:d['compound'])\n",
        "tweet['comp_score'] = tweet['compound'].apply(lambda score: 'positive' if score > 0 else ('neutral' if score == 0.00 else 'negative'))"
      ],
      "execution_count": 0,
      "outputs": []
    },
    {
      "cell_type": "code",
      "metadata": {
        "id": "tNUaI9VgDp8k",
        "colab_type": "code",
        "colab": {
          "base_uri": "https://localhost:8080/",
          "height": 195
        },
        "outputId": "8c168b3d-3d86-48f1-cda9-de4907aded12"
      },
      "source": [
        "tweet.head()\n",
        "\n",
        "# If the compound score is 0 it is neutral, >0 positive, <0 negative\n",
        "\n",
        "# Now that we caluclating the sentimental analysis via NLTK let's see how it\n",
        "# it fairs via confusion matrix and classification reports"
      ],
      "execution_count": 9,
      "outputs": [
        {
          "output_type": "execute_result",
          "data": {
            "text/html": [
              "<div>\n",
              "<style scoped>\n",
              "    .dataframe tbody tr th:only-of-type {\n",
              "        vertical-align: middle;\n",
              "    }\n",
              "\n",
              "    .dataframe tbody tr th {\n",
              "        vertical-align: top;\n",
              "    }\n",
              "\n",
              "    .dataframe thead th {\n",
              "        text-align: right;\n",
              "    }\n",
              "</style>\n",
              "<table border=\"1\" class=\"dataframe\">\n",
              "  <thead>\n",
              "    <tr style=\"text-align: right;\">\n",
              "      <th></th>\n",
              "      <th>airline_sentiment</th>\n",
              "      <th>text</th>\n",
              "      <th>score</th>\n",
              "      <th>compound</th>\n",
              "      <th>comp_score</th>\n",
              "    </tr>\n",
              "  </thead>\n",
              "  <tbody>\n",
              "    <tr>\n",
              "      <th>0</th>\n",
              "      <td>neutral</td>\n",
              "      <td>@VirginAmerica What @dhepburn said.</td>\n",
              "      <td>{'neg': 0.0, 'neu': 1.0, 'pos': 0.0, 'compound...</td>\n",
              "      <td>0.0000</td>\n",
              "      <td>neutral</td>\n",
              "    </tr>\n",
              "    <tr>\n",
              "      <th>1</th>\n",
              "      <td>positive</td>\n",
              "      <td>@VirginAmerica plus you've added commercials t...</td>\n",
              "      <td>{'neg': 0.0, 'neu': 1.0, 'pos': 0.0, 'compound...</td>\n",
              "      <td>0.0000</td>\n",
              "      <td>neutral</td>\n",
              "    </tr>\n",
              "    <tr>\n",
              "      <th>2</th>\n",
              "      <td>neutral</td>\n",
              "      <td>@VirginAmerica I didn't today... Must mean I n...</td>\n",
              "      <td>{'neg': 0.0, 'neu': 1.0, 'pos': 0.0, 'compound...</td>\n",
              "      <td>0.0000</td>\n",
              "      <td>neutral</td>\n",
              "    </tr>\n",
              "    <tr>\n",
              "      <th>3</th>\n",
              "      <td>negative</td>\n",
              "      <td>@VirginAmerica it's really aggressive to blast...</td>\n",
              "      <td>{'neg': 0.246, 'neu': 0.754, 'pos': 0.0, 'comp...</td>\n",
              "      <td>-0.5984</td>\n",
              "      <td>negative</td>\n",
              "    </tr>\n",
              "    <tr>\n",
              "      <th>4</th>\n",
              "      <td>negative</td>\n",
              "      <td>@VirginAmerica and it's a really big bad thing...</td>\n",
              "      <td>{'neg': 0.321, 'neu': 0.679, 'pos': 0.0, 'comp...</td>\n",
              "      <td>-0.5829</td>\n",
              "      <td>negative</td>\n",
              "    </tr>\n",
              "  </tbody>\n",
              "</table>\n",
              "</div>"
            ],
            "text/plain": [
              "  airline_sentiment  ... comp_score\n",
              "0           neutral  ...    neutral\n",
              "1          positive  ...    neutral\n",
              "2           neutral  ...    neutral\n",
              "3          negative  ...   negative\n",
              "4          negative  ...   negative\n",
              "\n",
              "[5 rows x 5 columns]"
            ]
          },
          "metadata": {
            "tags": []
          },
          "execution_count": 9
        }
      ]
    },
    {
      "cell_type": "code",
      "metadata": {
        "id": "YW-2NASYEmFo",
        "colab_type": "code",
        "colab": {
          "base_uri": "https://localhost:8080/",
          "height": 210
        },
        "outputId": "b93cc768-af07-4fec-d069-3eeaf6045c95"
      },
      "source": [
        "from sklearn.metrics import classification_report, accuracy_score, confusion_matrix\n",
        "\n",
        "print(accuracy_score(tweet['airline_sentiment'] ,tweet['comp_score']))\n",
        "print(classification_report(tweet['airline_sentiment'] , tweet['comp_score']))\n",
        "\n",
        "# We can see that our analysis is only 50% accurate however this is just\n",
        "# a simple method of using nltk, let's try using machine learning"
      ],
      "execution_count": 10,
      "outputs": [
        {
          "output_type": "stream",
          "text": [
            "0.5465163934426229\n",
            "              precision    recall  f1-score   support\n",
            "\n",
            "    negative       0.90      0.50      0.65      9178\n",
            "     neutral       0.40      0.42      0.41      3099\n",
            "    positive       0.33      0.87      0.48      2363\n",
            "\n",
            "    accuracy                           0.55     14640\n",
            "   macro avg       0.54      0.60      0.51     14640\n",
            "weighted avg       0.70      0.55      0.57     14640\n",
            "\n"
          ],
          "name": "stdout"
        }
      ]
    },
    {
      "cell_type": "code",
      "metadata": {
        "id": "bTY1jvwAJ7_R",
        "colab_type": "code",
        "colab": {
          "base_uri": "https://localhost:8080/",
          "height": 87
        },
        "outputId": "d8d99a5f-808b-4638-c3dd-ae4f50fb36ae"
      },
      "source": [
        "tweet.comp_score.value_counts()\n",
        "\n",
        "#there is an imbalancement so we will have to balance the dataset and we want to\n",
        "# use our generated comp_score because in the real world there is no label if\n",
        "# the sentiment is positive, neutral or negative"
      ],
      "execution_count": 11,
      "outputs": [
        {
          "output_type": "execute_result",
          "data": {
            "text/plain": [
              "positive    6222\n",
              "negative    5153\n",
              "neutral     3265\n",
              "Name: comp_score, dtype: int64"
            ]
          },
          "metadata": {
            "tags": []
          },
          "execution_count": 11
        }
      ]
    },
    {
      "cell_type": "code",
      "metadata": {
        "id": "iziamDZGMmNT",
        "colab_type": "code",
        "colab": {
          "base_uri": "https://localhost:8080/",
          "height": 87
        },
        "outputId": "d628d4ba-6209-4421-d240-97e912e1f3ff"
      },
      "source": [
        "from sklearn.utils import resample\n",
        "\n",
        "# Separate majority and minority classes\n",
        "df_majority = tweet[tweet.comp_score =='positive']\n",
        "df_minority = tweet[tweet.comp_score =='negative']\n",
        "df_minority1 = tweet[tweet.comp_score == 'neutral']\n",
        " \n",
        "# Upsample minority class\n",
        "df_minority_upsampled = resample(df_minority, \n",
        "                                 replace=True,     # sample with replacement\n",
        "                                 n_samples=6222,    # to match majority class\n",
        "                                 random_state=123) # reproducible results\n",
        "\n",
        "df_minority1_upsampled = resample(df_minority1, \n",
        "                                 replace=True,    \n",
        "                                 n_samples=6222,    \n",
        "                                 random_state=123)\n",
        " \n",
        "# Combine majority class with upsampled minority class\n",
        "new_tweet = pd.concat([df_majority, df_minority_upsampled , df_minority1_upsampled])\n",
        " \n",
        "# Display new class counts\n",
        "new_tweet.comp_score.value_counts()"
      ],
      "execution_count": 12,
      "outputs": [
        {
          "output_type": "execute_result",
          "data": {
            "text/plain": [
              "neutral     6222\n",
              "negative    6222\n",
              "positive    6222\n",
              "Name: comp_score, dtype: int64"
            ]
          },
          "metadata": {
            "tags": []
          },
          "execution_count": 12
        }
      ]
    },
    {
      "cell_type": "code",
      "metadata": {
        "id": "3l8Vn0-FOA9H",
        "colab_type": "code",
        "colab": {}
      },
      "source": [
        "from sklearn.model_selection import train_test_split\n",
        "\n",
        "X = new_tweet['text' ]\n",
        "y = new_tweet['comp_score']\n",
        "\n",
        "X_train, X_test, y_train, y_test = train_test_split(X,y, test_size = 0.33,\n",
        "                                                   random_state = 42)"
      ],
      "execution_count": 0,
      "outputs": []
    },
    {
      "cell_type": "code",
      "metadata": {
        "id": "D1y2ZhcTQUrw",
        "colab_type": "code",
        "colab": {}
      },
      "source": [
        "from sklearn.feature_extraction.text import TfidfVectorizer\n",
        "\n",
        "# TfidfVectorizer combines the steps of countvectorization and tfidftransformer\n",
        "# Basically it learns the vocabulary, counts the number of words then transform\n",
        "# X_train to a numerical vector while also gives important words more weight\n",
        "\n",
        "from sklearn.pipeline import Pipeline\n",
        "from sklearn.svm import LinearSVC\n",
        "\n",
        "text_clf = Pipeline([('tfidf', TfidfVectorizer(max_df= 0.95, min_df= 2, \n",
        "                                               stop_words= 'english')), \n",
        "                     ('clf' , LinearSVC())])\n",
        "text_clf.fit(X_train,y_train)\n",
        "predictions = text_clf.predict(X_test)"
      ],
      "execution_count": 0,
      "outputs": []
    },
    {
      "cell_type": "code",
      "metadata": {
        "id": "8LT9sCvZO8bt",
        "colab_type": "code",
        "colab": {
          "base_uri": "https://localhost:8080/",
          "height": 193
        },
        "outputId": "d416d54e-902e-4d5f-beb0-99fcbfb916aa"
      },
      "source": [
        "print(classification_report(y_test, predictions))"
      ],
      "execution_count": 29,
      "outputs": [
        {
          "output_type": "stream",
          "text": [
            "              precision    recall  f1-score   support\n",
            "\n",
            "    negative       0.84      0.83      0.83      2057\n",
            "     neutral       0.85      0.92      0.88      2075\n",
            "    positive       0.85      0.79      0.82      2028\n",
            "\n",
            "    accuracy                           0.85      6160\n",
            "   macro avg       0.85      0.84      0.84      6160\n",
            "weighted avg       0.85      0.85      0.84      6160\n",
            "\n"
          ],
          "name": "stdout"
        }
      ]
    },
    {
      "cell_type": "code",
      "metadata": {
        "id": "b6loMw8tQ-QU",
        "colab_type": "code",
        "colab": {
          "base_uri": "https://localhost:8080/",
          "height": 34
        },
        "outputId": "2e172d32-feab-4735-b87e-dc4569e81252"
      },
      "source": [
        "print(accuracy_score(y_test ,predictions))"
      ],
      "execution_count": 30,
      "outputs": [
        {
          "output_type": "stream",
          "text": [
            "0.8452922077922078\n"
          ],
          "name": "stdout"
        }
      ]
    },
    {
      "cell_type": "code",
      "metadata": {
        "id": "eQZO6gg_3f1o",
        "colab_type": "code",
        "colab": {
          "base_uri": "https://localhost:8080/",
          "height": 301
        },
        "outputId": "36500cad-9e49-41e4-d5ad-2135ffe82f8e"
      },
      "source": [
        "from sklearn.linear_model import LogisticRegression\n",
        "\n",
        "text_clf1 = Pipeline([('tfidf', TfidfVectorizer(max_df= 0.95, min_df= 2, \n",
        "                                               stop_words= 'english')), \n",
        "                     ('Log' , LogisticRegression())])\n",
        "text_clf1.fit(X_train,y_train)\n",
        "predictions1 = text_clf1.predict(X_test)\n",
        "print(classification_report(y_test, predictions1))\n",
        "print(accuracy_score(y_test ,predictions1))"
      ],
      "execution_count": 31,
      "outputs": [
        {
          "output_type": "stream",
          "text": [
            "/usr/local/lib/python3.6/dist-packages/sklearn/linear_model/logistic.py:432: FutureWarning: Default solver will be changed to 'lbfgs' in 0.22. Specify a solver to silence this warning.\n",
            "  FutureWarning)\n",
            "/usr/local/lib/python3.6/dist-packages/sklearn/linear_model/logistic.py:469: FutureWarning: Default multi_class will be changed to 'auto' in 0.22. Specify the multi_class option to silence this warning.\n",
            "  \"this warning.\", FutureWarning)\n"
          ],
          "name": "stderr"
        },
        {
          "output_type": "stream",
          "text": [
            "              precision    recall  f1-score   support\n",
            "\n",
            "    negative       0.81      0.78      0.79      2057\n",
            "     neutral       0.79      0.92      0.85      2075\n",
            "    positive       0.85      0.74      0.79      2028\n",
            "\n",
            "    accuracy                           0.81      6160\n",
            "   macro avg       0.82      0.81      0.81      6160\n",
            "weighted avg       0.82      0.81      0.81      6160\n",
            "\n",
            "0.8128246753246753\n"
          ],
          "name": "stdout"
        }
      ]
    },
    {
      "cell_type": "code",
      "metadata": {
        "id": "PZaa7-sG_4vV",
        "colab_type": "code",
        "colab": {
          "base_uri": "https://localhost:8080/",
          "height": 210
        },
        "outputId": "ac45815f-7104-4f63-e5d5-5b2c70745e9a"
      },
      "source": [
        "from sklearn.tree import DecisionTreeClassifier\n",
        "\n",
        "text_clf2 = Pipeline([('tfidf', TfidfVectorizer(max_df= 0.95, min_df= 2, \n",
        "                                               stop_words= 'english')), \n",
        "                     ('DT' , DecisionTreeClassifier())])\n",
        "text_clf2.fit(X_train,y_train)\n",
        "predictions2 = text_clf2.predict(X_test)\n",
        "print(classification_report(y_test, predictions2))\n",
        "print(accuracy_score(y_test ,predictions2))"
      ],
      "execution_count": 32,
      "outputs": [
        {
          "output_type": "stream",
          "text": [
            "              precision    recall  f1-score   support\n",
            "\n",
            "    negative       0.81      0.81      0.81      2057\n",
            "     neutral       0.79      0.92      0.85      2075\n",
            "    positive       0.83      0.68      0.75      2028\n",
            "\n",
            "    accuracy                           0.80      6160\n",
            "   macro avg       0.81      0.80      0.80      6160\n",
            "weighted avg       0.81      0.80      0.80      6160\n",
            "\n",
            "0.8048701298701298\n"
          ],
          "name": "stdout"
        }
      ]
    },
    {
      "cell_type": "code",
      "metadata": {
        "id": "O12KYnNe_6si",
        "colab_type": "code",
        "colab": {
          "base_uri": "https://localhost:8080/",
          "height": 210
        },
        "outputId": "cdf3307b-4c42-475d-969e-b5319fe75290"
      },
      "source": [
        "from sklearn.ensemble import RandomForestClassifier\n",
        "\n",
        "text_clf3 = Pipeline([('tfidf', TfidfVectorizer(max_df= 0.95, min_df= 2, \n",
        "                                               stop_words= 'english')), \n",
        "                     ('RF' , RandomForestClassifier(n_estimators=100))])\n",
        "text_clf3.fit(X_train,y_train)\n",
        "predictions3 = text_clf3.predict(X_test)\n",
        "print(classification_report(y_test, predictions3))\n",
        "print(accuracy_score(y_test ,predictions3))"
      ],
      "execution_count": 33,
      "outputs": [
        {
          "output_type": "stream",
          "text": [
            "              precision    recall  f1-score   support\n",
            "\n",
            "    negative       0.86      0.83      0.84      2057\n",
            "     neutral       0.78      0.97      0.87      2075\n",
            "    positive       0.90      0.72      0.80      2028\n",
            "\n",
            "    accuracy                           0.84      6160\n",
            "   macro avg       0.85      0.84      0.84      6160\n",
            "weighted avg       0.85      0.84      0.84      6160\n",
            "\n",
            "0.8392857142857143\n"
          ],
          "name": "stdout"
        }
      ]
    },
    {
      "cell_type": "code",
      "metadata": {
        "id": "Rjg3hNLVIFj2",
        "colab_type": "code",
        "colab": {}
      },
      "source": [
        "# As we can see the highest accuracy was with LinearSVC at around 84%\n",
        "# We can test out our prediction"
      ],
      "execution_count": 0,
      "outputs": []
    },
    {
      "cell_type": "code",
      "metadata": {
        "id": "ki8KeHSQKSVU",
        "colab_type": "code",
        "colab": {
          "base_uri": "https://localhost:8080/",
          "height": 1000
        },
        "outputId": "cd7494b0-b10e-4f8a-e3fb-41e60db962e2"
      },
      "source": [
        "for i in range(0,20):  \n",
        "  print(\"Label of tweet\",[tweet.iloc[:,0][i]])\n",
        "  print(\"Actual tweet\",[tweet.iloc[:,1][i]])\n",
        "  print(\"Computed Score of tweet\",[tweet.iloc[:,3][i]])\n",
        "  print(\"Predicted label\",text_clf.predict([tweet.iloc[:,1][i]]))\n",
        "  print('\\n')"
      ],
      "execution_count": 108,
      "outputs": [
        {
          "output_type": "stream",
          "text": [
            "Label of tweet ['neutral']\n",
            "Actual tweet ['@VirginAmerica What @dhepburn said.']\n",
            "Computed Score of tweet [0.0]\n",
            "Predicted label ['neutral']\n",
            "\n",
            "\n",
            "Label of tweet ['positive']\n",
            "Actual tweet [\"@VirginAmerica plus you've added commercials to the experience... tacky.\"]\n",
            "Computed Score of tweet [0.0]\n",
            "Predicted label ['neutral']\n",
            "\n",
            "\n",
            "Label of tweet ['neutral']\n",
            "Actual tweet [\"@VirginAmerica I didn't today... Must mean I need to take another trip!\"]\n",
            "Computed Score of tweet [0.0]\n",
            "Predicted label ['neutral']\n",
            "\n",
            "\n",
            "Label of tweet ['negative']\n",
            "Actual tweet ['@VirginAmerica it\\'s really aggressive to blast obnoxious \"entertainment\" in your guests\\' faces &amp; they have little recourse']\n",
            "Computed Score of tweet [-0.5984]\n",
            "Predicted label ['positive']\n",
            "\n",
            "\n",
            "Label of tweet ['negative']\n",
            "Actual tweet [\"@VirginAmerica and it's a really big bad thing about it\"]\n",
            "Computed Score of tweet [-0.5829]\n",
            "Predicted label ['negative']\n",
            "\n",
            "\n",
            "Label of tweet ['negative']\n",
            "Actual tweet [\"@VirginAmerica seriously would pay $30 a flight for seats that didn't have this playing.\\nit's really the only bad thing about flying VA\"]\n",
            "Computed Score of tweet [-0.5945]\n",
            "Predicted label ['negative']\n",
            "\n",
            "\n",
            "Label of tweet ['positive']\n",
            "Actual tweet ['@VirginAmerica yes, nearly every time I fly VX this “ear worm” won’t go away :)']\n",
            "Computed Score of tweet [0.6908]\n",
            "Predicted label ['positive']\n",
            "\n",
            "\n",
            "Label of tweet ['neutral']\n",
            "Actual tweet ['@VirginAmerica Really missed a prime opportunity for Men Without Hats parody, there. https://t.co/mWpG7grEZP']\n",
            "Computed Score of tweet [0.1458]\n",
            "Predicted label ['positive']\n",
            "\n",
            "\n",
            "Label of tweet ['positive']\n",
            "Actual tweet [\"@virginamerica Well, I didn't…but NOW I DO! :-D\"]\n",
            "Computed Score of tweet [-0.3477]\n",
            "Predicted label ['neutral']\n",
            "\n",
            "\n",
            "Label of tweet ['positive']\n",
            "Actual tweet [\"@VirginAmerica it was amazing, and arrived an hour early. You're too good to me.\"]\n",
            "Computed Score of tweet [0.7717]\n",
            "Predicted label ['positive']\n",
            "\n",
            "\n",
            "Label of tweet ['neutral']\n",
            "Actual tweet ['@VirginAmerica did you know that suicide is the second leading cause of death among teens 10-24']\n",
            "Computed Score of tweet [-0.8555]\n",
            "Predicted label ['negative']\n",
            "\n",
            "\n",
            "Label of tweet ['positive']\n",
            "Actual tweet ['@VirginAmerica I &lt;3 pretty graphics. so much better than minimal iconography. :D']\n",
            "Computed Score of tweet [0.8863]\n",
            "Predicted label ['positive']\n",
            "\n",
            "\n",
            "Label of tweet ['positive']\n",
            "Actual tweet [\"@VirginAmerica This is such a great deal! Already thinking about my 2nd trip to @Australia &amp; I haven't even gone on my 1st trip yet! ;p\"]\n",
            "Computed Score of tweet [0.6892]\n",
            "Predicted label ['positive']\n",
            "\n",
            "\n",
            "Label of tweet ['positive']\n",
            "Actual tweet [\"@VirginAmerica @virginmedia I'm flying your #fabulous #Seductive skies again! U take all the #stress away from travel http://t.co/ahlXHhKiyn\"]\n",
            "Computed Score of tweet [0.0]\n",
            "Predicted label ['neutral']\n",
            "\n",
            "\n",
            "Label of tweet ['positive']\n",
            "Actual tweet ['@VirginAmerica Thanks!']\n",
            "Computed Score of tweet [0.4926]\n",
            "Predicted label ['positive']\n",
            "\n",
            "\n",
            "Label of tweet ['negative']\n",
            "Actual tweet ['@VirginAmerica SFO-PDX schedule is still MIA.']\n",
            "Computed Score of tweet [-0.4466]\n",
            "Predicted label ['negative']\n",
            "\n",
            "\n",
            "Label of tweet ['positive']\n",
            "Actual tweet [\"@VirginAmerica So excited for my first cross country flight LAX to MCO I've heard nothing but great things about Virgin America. #29DaysToGo\"]\n",
            "Computed Score of tweet [-0.5566]\n",
            "Predicted label ['positive']\n",
            "\n",
            "\n",
            "Label of tweet ['negative']\n",
            "Actual tweet [\"@VirginAmerica  I flew from NYC to SFO last week and couldn't fully sit in my seat due to two large gentleman on either side of me. HELP!\"]\n",
            "Computed Score of tweet [0.5754]\n",
            "Predicted label ['positive']\n",
            "\n",
            "\n",
            "Label of tweet ['positive']\n",
            "Actual tweet ['I ❤️ flying @VirginAmerica. ☺️👍']\n",
            "Computed Score of tweet [0.0]\n",
            "Predicted label ['neutral']\n",
            "\n",
            "\n",
            "Label of tweet ['positive']\n",
            "Actual tweet ['@VirginAmerica you know what would be amazingly awesome? BOS-FLL PLEASE!!!!!!! I want to fly with only you.']\n",
            "Computed Score of tweet [0.7821]\n",
            "Predicted label ['positive']\n",
            "\n",
            "\n"
          ],
          "name": "stdout"
        }
      ]
    },
    {
      "cell_type": "code",
      "metadata": {
        "id": "V9Ji8bv3SWoS",
        "colab_type": "code",
        "colab": {}
      },
      "source": [
        "# For the most part our predictive label matches with the actual label\n",
        "# Some of the improvements would be replacing emojis with words\n",
        "# Taking out hashtags"
      ],
      "execution_count": 0,
      "outputs": []
    }
  ]
}